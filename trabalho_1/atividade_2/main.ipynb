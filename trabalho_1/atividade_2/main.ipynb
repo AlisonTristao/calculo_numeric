{
 "cells": [
  {
   "cell_type": "markdown",
   "metadata": {},
   "source": [
    "### Imports Usados"
   ]
  },
  {
   "cell_type": "code",
   "execution_count": 148,
   "metadata": {},
   "outputs": [],
   "source": [
    "import math\n",
    "import numpy as np\n",
    "import matplotlib.pyplot as plt"
   ]
  },
  {
   "cell_type": "markdown",
   "metadata": {},
   "source": [
    "### Definição das constantes e condições iniciais"
   ]
  },
  {
   "cell_type": "code",
   "execution_count": 149,
   "metadata": {},
   "outputs": [],
   "source": [
    "k = 2.5\n",
    "h = 0.05\n",
    "const = k/h**2\n",
    "Tbegin = 60\n",
    "Tend = 40"
   ]
  },
  {
   "cell_type": "markdown",
   "metadata": {},
   "source": [
    "### Cálculo do valor N"
   ]
  },
  {
   "cell_type": "code",
   "execution_count": 150,
   "metadata": {},
   "outputs": [
    {
     "name": "stdout",
     "output_type": "stream",
     "text": [
      "N =  19\n"
     ]
    }
   ],
   "source": [
    "N = 1/h -1\n",
    "\n",
    "# verifica se N pertence aos inteiros\n",
    "if N != int(N):\n",
    "    print(\"N não é inteiro\")\n",
    "else:\n",
    "    N = int(N)\n",
    "    print(\"N = \", N)"
   ]
  },
  {
   "cell_type": "markdown",
   "metadata": {},
   "source": [
    "### Função q(x)"
   ]
  },
  {
   "cell_type": "code",
   "execution_count": 151,
   "metadata": {},
   "outputs": [],
   "source": [
    "def q(x):\n",
    "    return math.sin(x) + 1"
   ]
  },
  {
   "cell_type": "markdown",
   "metadata": {},
   "source": [
    "### Constroi as matrizes utilizadas"
   ]
  },
  {
   "cell_type": "code",
   "execution_count": 152,
   "metadata": {},
   "outputs": [],
   "source": [
    "D2 = np.zeros((N, N))\n",
    "BC = np.zeros(N)\n",
    "Q = np.zeros(N)"
   ]
  },
  {
   "cell_type": "code",
   "execution_count": 153,
   "metadata": {},
   "outputs": [
    {
     "name": "stdout",
     "output_type": "stream",
     "text": [
      "Q = \n",
      "q(0.05) = |1.05|\n",
      "q(0.10) = |1.10|\n",
      "q(0.15) = |1.15|\n",
      "q(0.20) = |1.20|\n",
      "q(0.25) = |1.25|\n",
      "q(0.30) = |1.30|\n",
      "q(0.35) = |1.34|\n",
      "q(0.40) = |1.39|\n",
      "q(0.45) = |1.43|\n",
      "q(0.50) = |1.48|\n",
      "q(0.55) = |1.52|\n",
      "q(0.60) = |1.56|\n",
      "q(0.65) = |1.61|\n",
      "q(0.70) = |1.64|\n",
      "q(0.75) = |1.68|\n",
      "q(0.80) = |1.72|\n",
      "q(0.85) = |1.75|\n",
      "q(0.90) = |1.78|\n",
      "q(0.95) = |1.81|\n"
     ]
    }
   ],
   "source": [
    "print(\"Q = \")\n",
    "for i in range(N):\n",
    "    x = (i+1)*h\n",
    "    Q[i] = q(x)\n",
    "    print('q({:.2f}) = |{:.2f}|'.format(x, Q[i]))"
   ]
  },
  {
   "cell_type": "code",
   "execution_count": 154,
   "metadata": {},
   "outputs": [
    {
     "name": "stdout",
     "output_type": "stream",
     "text": [
      "BC = \n",
      "|60.00|\n",
      "|0.00|\n",
      "|0.00|\n",
      "|0.00|\n",
      "|0.00|\n",
      "|0.00|\n",
      "|0.00|\n",
      "|0.00|\n",
      "|0.00|\n",
      "|0.00|\n",
      "|0.00|\n",
      "|0.00|\n",
      "|0.00|\n",
      "|0.00|\n",
      "|0.00|\n",
      "|0.00|\n",
      "|0.00|\n",
      "|0.00|\n",
      "|40.00|\n"
     ]
    }
   ],
   "source": [
    "BC[0] = Tbegin\n",
    "BC[N-1] = Tend\n",
    "\n",
    "print('BC = ')\n",
    "for i in range(N):\n",
    "    print('|{:.2f}|'.format(BC[i]))"
   ]
  },
  {
   "cell_type": "code",
   "execution_count": 155,
   "metadata": {},
   "outputs": [
    {
     "name": "stdout",
     "output_type": "stream",
     "text": [
      "D2 = \n",
      "[[-2.  1.  0.  0.  0.  0.  0.  0.  0.  0.  0.  0.  0.  0.  0.  0.  0.  0.\n",
      "   0.]\n",
      " [ 1. -2.  1.  0.  0.  0.  0.  0.  0.  0.  0.  0.  0.  0.  0.  0.  0.  0.\n",
      "   0.]\n",
      " [ 0.  1. -2.  1.  0.  0.  0.  0.  0.  0.  0.  0.  0.  0.  0.  0.  0.  0.\n",
      "   0.]\n",
      " [ 0.  0.  1. -2.  1.  0.  0.  0.  0.  0.  0.  0.  0.  0.  0.  0.  0.  0.\n",
      "   0.]\n",
      " [ 0.  0.  0.  1. -2.  1.  0.  0.  0.  0.  0.  0.  0.  0.  0.  0.  0.  0.\n",
      "   0.]\n",
      " [ 0.  0.  0.  0.  1. -2.  1.  0.  0.  0.  0.  0.  0.  0.  0.  0.  0.  0.\n",
      "   0.]\n",
      " [ 0.  0.  0.  0.  0.  1. -2.  1.  0.  0.  0.  0.  0.  0.  0.  0.  0.  0.\n",
      "   0.]\n",
      " [ 0.  0.  0.  0.  0.  0.  1. -2.  1.  0.  0.  0.  0.  0.  0.  0.  0.  0.\n",
      "   0.]\n",
      " [ 0.  0.  0.  0.  0.  0.  0.  1. -2.  1.  0.  0.  0.  0.  0.  0.  0.  0.\n",
      "   0.]\n",
      " [ 0.  0.  0.  0.  0.  0.  0.  0.  1. -2.  1.  0.  0.  0.  0.  0.  0.  0.\n",
      "   0.]\n",
      " [ 0.  0.  0.  0.  0.  0.  0.  0.  0.  1. -2.  1.  0.  0.  0.  0.  0.  0.\n",
      "   0.]\n",
      " [ 0.  0.  0.  0.  0.  0.  0.  0.  0.  0.  1. -2.  1.  0.  0.  0.  0.  0.\n",
      "   0.]\n",
      " [ 0.  0.  0.  0.  0.  0.  0.  0.  0.  0.  0.  1. -2.  1.  0.  0.  0.  0.\n",
      "   0.]\n",
      " [ 0.  0.  0.  0.  0.  0.  0.  0.  0.  0.  0.  0.  1. -2.  1.  0.  0.  0.\n",
      "   0.]\n",
      " [ 0.  0.  0.  0.  0.  0.  0.  0.  0.  0.  0.  0.  0.  1. -2.  1.  0.  0.\n",
      "   0.]\n",
      " [ 0.  0.  0.  0.  0.  0.  0.  0.  0.  0.  0.  0.  0.  0.  1. -2.  1.  0.\n",
      "   0.]\n",
      " [ 0.  0.  0.  0.  0.  0.  0.  0.  0.  0.  0.  0.  0.  0.  0.  1. -2.  1.\n",
      "   0.]\n",
      " [ 0.  0.  0.  0.  0.  0.  0.  0.  0.  0.  0.  0.  0.  0.  0.  0.  1. -2.\n",
      "   1.]\n",
      " [ 0.  0.  0.  0.  0.  0.  0.  0.  0.  0.  0.  0.  0.  0.  0.  0.  0.  1.\n",
      "  -2.]]\n"
     ]
    }
   ],
   "source": [
    "for i in range(N):\n",
    "    D2[i][i] = -2\n",
    "    if i > 0:\n",
    "        D2[i][i-1] = 1\n",
    "    if i < N-1:\n",
    "        D2[i][i+1] = 1\n",
    "\n",
    "print('D2 = ')\n",
    "print(D2)"
   ]
  },
  {
   "cell_type": "markdown",
   "metadata": {},
   "source": [
    "### Montando o sistema Ax = b"
   ]
  },
  {
   "cell_type": "code",
   "execution_count": 156,
   "metadata": {},
   "outputs": [
    {
     "name": "stdout",
     "output_type": "stream",
     "text": [
      "| -2000.00 1000.00   0.00   0.00   0.00   0.00   0.00   0.00   0.00   0.00   0.00   0.00   0.00   0.00   0.00   0.00   0.00   0.00   0.00 |\n",
      "| 1000.00 -2000.00 1000.00   0.00   0.00   0.00   0.00   0.00   0.00   0.00   0.00   0.00   0.00   0.00   0.00   0.00   0.00   0.00   0.00 |\n",
      "|   0.00 1000.00 -2000.00 1000.00   0.00   0.00   0.00   0.00   0.00   0.00   0.00   0.00   0.00   0.00   0.00   0.00   0.00   0.00   0.00 |\n",
      "|   0.00   0.00 1000.00 -2000.00 1000.00   0.00   0.00   0.00   0.00   0.00   0.00   0.00   0.00   0.00   0.00   0.00   0.00   0.00   0.00 |\n",
      "|   0.00   0.00   0.00 1000.00 -2000.00 1000.00   0.00   0.00   0.00   0.00   0.00   0.00   0.00   0.00   0.00   0.00   0.00   0.00   0.00 |\n",
      "|   0.00   0.00   0.00   0.00 1000.00 -2000.00 1000.00   0.00   0.00   0.00   0.00   0.00   0.00   0.00   0.00   0.00   0.00   0.00   0.00 |\n",
      "|   0.00   0.00   0.00   0.00   0.00 1000.00 -2000.00 1000.00   0.00   0.00   0.00   0.00   0.00   0.00   0.00   0.00   0.00   0.00   0.00 |\n",
      "|   0.00   0.00   0.00   0.00   0.00   0.00 1000.00 -2000.00 1000.00   0.00   0.00   0.00   0.00   0.00   0.00   0.00   0.00   0.00   0.00 |\n",
      "|   0.00   0.00   0.00   0.00   0.00   0.00   0.00 1000.00 -2000.00 1000.00   0.00   0.00   0.00   0.00   0.00   0.00   0.00   0.00   0.00 |\n",
      "|   0.00   0.00   0.00   0.00   0.00   0.00   0.00   0.00 1000.00 -2000.00 1000.00   0.00   0.00   0.00   0.00   0.00   0.00   0.00   0.00 |\n",
      "|   0.00   0.00   0.00   0.00   0.00   0.00   0.00   0.00   0.00 1000.00 -2000.00 1000.00   0.00   0.00   0.00   0.00   0.00   0.00   0.00 |\n",
      "|   0.00   0.00   0.00   0.00   0.00   0.00   0.00   0.00   0.00   0.00 1000.00 -2000.00 1000.00   0.00   0.00   0.00   0.00   0.00   0.00 |\n",
      "|   0.00   0.00   0.00   0.00   0.00   0.00   0.00   0.00   0.00   0.00   0.00 1000.00 -2000.00 1000.00   0.00   0.00   0.00   0.00   0.00 |\n",
      "|   0.00   0.00   0.00   0.00   0.00   0.00   0.00   0.00   0.00   0.00   0.00   0.00 1000.00 -2000.00 1000.00   0.00   0.00   0.00   0.00 |\n",
      "|   0.00   0.00   0.00   0.00   0.00   0.00   0.00   0.00   0.00   0.00   0.00   0.00   0.00 1000.00 -2000.00 1000.00   0.00   0.00   0.00 |\n",
      "|   0.00   0.00   0.00   0.00   0.00   0.00   0.00   0.00   0.00   0.00   0.00   0.00   0.00   0.00 1000.00 -2000.00 1000.00   0.00   0.00 |\n",
      "|   0.00   0.00   0.00   0.00   0.00   0.00   0.00   0.00   0.00   0.00   0.00   0.00   0.00   0.00   0.00 1000.00 -2000.00 1000.00   0.00 |\n",
      "|   0.00   0.00   0.00   0.00   0.00   0.00   0.00   0.00   0.00   0.00   0.00   0.00   0.00   0.00   0.00   0.00 1000.00 -2000.00 1000.00 |\n",
      "|   0.00   0.00   0.00   0.00   0.00   0.00   0.00   0.00   0.00   0.00   0.00   0.00   0.00   0.00   0.00   0.00   0.00 1000.00 -2000.00 |\n"
     ]
    }
   ],
   "source": [
    "largura = 6 \n",
    "A = const * D2\n",
    "\n",
    "for i in range(N):\n",
    "    linha = '| '\n",
    "    for j in range(N):\n",
    "        linha += '{:>{width}.2f} '.format(A[i][j], width=largura)\n",
    "    linha += '|'\n",
    "    print(linha)"
   ]
  },
  {
   "cell_type": "code",
   "execution_count": 157,
   "metadata": {},
   "outputs": [
    {
     "name": "stdout",
     "output_type": "stream",
     "text": [
      "| -59998.95 |\n",
      "| 1.10 |\n",
      "| 1.15 |\n",
      "| 1.20 |\n",
      "| 1.25 |\n",
      "| 1.30 |\n",
      "| 1.34 |\n",
      "| 1.39 |\n",
      "| 1.43 |\n",
      "| 1.48 |\n",
      "| 1.52 |\n",
      "| 1.56 |\n",
      "| 1.61 |\n",
      "| 1.64 |\n",
      "| 1.68 |\n",
      "| 1.72 |\n",
      "| 1.75 |\n",
      "| 1.78 |\n",
      "| -39998.19 |\n"
     ]
    }
   ],
   "source": [
    "\n",
    "b = Q - const*BC\n",
    "\n",
    "for i in range(N):\n",
    "    print('| {:.2f} |'.format(b[i]))\n"
   ]
  },
  {
   "cell_type": "markdown",
   "metadata": {},
   "source": [
    "### Resolve o sistema"
   ]
  },
  {
   "cell_type": "markdown",
   "metadata": {},
   "source": [
    "### Método de gauss com pivoteamento"
   ]
  },
  {
   "cell_type": "code",
   "execution_count": 158,
   "metadata": {},
   "outputs": [],
   "source": [
    "def pivoteamento(matriz, b, k):\n",
    "    # obtem o index do maior valor abaixo da diagonal principal\n",
    "    max_index = np.argmax(np.abs(matriz[k:, k])) + k\n",
    "\n",
    "    # inverte as linhas para que o maior valor fique na diagonal principal\n",
    "    if max_index != k:\n",
    "        matriz[[k, max_index]] = matriz[[max_index, k]]\n",
    "        b[[k, max_index]] = b[[max_index, k]]\n",
    "\n",
    "def escalonamento(matriz, b):\n",
    "    n = len(b)\n",
    "    matriz = matriz.astype(float)\n",
    "    b = b.astype(float)\n",
    "    \n",
    "    for k in range(n):\n",
    "        # coloca os maiores valores abaixo da diagonal principal\n",
    "        pivoteamento(matriz, b, k)\n",
    "\n",
    "        # escola a coluna\n",
    "        for i in range(k + 1, n):\n",
    "            fator = matriz[i, k] / matriz[k, k]\n",
    "            matriz[i, k:] -= fator * matriz[k, k:]\n",
    "            b[i] -= fator * b[k]\n",
    "    \n",
    "    return matriz, b\n",
    "\n",
    "def solucao(matriz, b):\n",
    "    n = len(b)\n",
    "    x = np.zeros(n)\n",
    "\n",
    "    # substitui os valores para achar a solucao\n",
    "    for i in range(n - 1, -1, -1):\n",
    "        x[i] = (b[i].item() - np.dot(matriz[i, i + 1:], x[i + 1:])) / matriz[i, i].item()\n",
    "    \n",
    "    return x\n",
    "\n",
    "def gauss(matriz, b):\n",
    "    # escalona a matriz extendida\n",
    "    matriz, b = escalonamento(matriz, b)\n",
    "\n",
    "    # retorna a solucao\n",
    "    return solucao(matriz, b)\n"
   ]
  },
  {
   "cell_type": "markdown",
   "metadata": {},
   "source": [
    "### Solucionando o sistema"
   ]
  },
  {
   "cell_type": "code",
   "execution_count": 159,
   "metadata": {},
   "outputs": [
    {
     "name": "stdout",
     "output_type": "stream",
     "text": [
      "T = \n",
      "|58.99|\n",
      "|57.98|\n",
      "|56.97|\n",
      "|55.96|\n",
      "|54.95|\n",
      "|53.94|\n",
      "|52.94|\n",
      "|51.93|\n",
      "|50.93|\n",
      "|49.93|\n",
      "|48.93|\n",
      "|47.93|\n",
      "|46.93|\n",
      "|45.94|\n",
      "|44.94|\n",
      "|43.95|\n",
      "|42.96|\n",
      "|41.97|\n",
      "|40.98|\n"
     ]
    }
   ],
   "source": [
    "T = gauss(A, b)\n",
    "print('T = ')\n",
    "for i in range(N):\n",
    "    print('|{:.2f}|'.format(T[i]))"
   ]
  },
  {
   "cell_type": "markdown",
   "metadata": {},
   "source": [
    "### Plotando a temperaturas"
   ]
  },
  {
   "cell_type": "code",
   "execution_count": 166,
   "metadata": {},
   "outputs": [
    {
     "data": {
      "image/png": "[encoded data removed]",
      "text/plain": [
       "<Figure size 1200x100 with 1 Axes>"
      ]
     },
     "metadata": {},
     "output_type": "display_data"
    }
   ],
   "source": [
    "# Dados\n",
    "x_barra = [i*h for i in range(N + 3)]\n",
    "\n",
    "temperaturas = np.concatenate(([Tbegin], T, [Tend]))\n",
    " \n",
    "altura = 0.1\n",
    "\n",
    "norm = plt.Normalize(temperaturas.min(), temperaturas.max()) \n",
    "colors = plt.cm.Reds(norm(temperaturas)) \n",
    "\n",
    "plt.figure(figsize=(12, 1)) \n",
    "\n",
    "for i in range(N + 2):\n",
    "    plt.fill_between(x_barra[i:i+3], 0, altura, color=colors[i])\n",
    "\n",
    "    # Posiciona o texto no lado esquerdo, diretamente acima do ponto x_barra[i]\n",
    "    plt.text(x_barra[i], altura + 0.02, f'{temperaturas[i]:.1f}°', \n",
    "             horizontalalignment='left', verticalalignment='center', \n",
    "             fontsize=10, color='black')\n",
    "\n",
    "plt.xlim(0, 1)\n",
    "plt.yticks([]) \n",
    "plt.xticks([0, 1]) \n",
    "plt.xlabel('X')\n",
    "plt.show()"
   ]
  },
  {
   "cell_type": "code",
   "execution_count": 161,
   "metadata": {},
   "outputs": [
    {
     "data": {
      "image/png": "[encoded data removed]",
      "text/plain": [
       "<Figure size 1000x500 with 1 Axes>"
      ]
     },
     "metadata": {},
     "output_type": "display_data"
    }
   ],
   "source": [
    "plt.figure(figsize=(10, 5))\n",
    "plt.plot([i*h for i in range(len(temperaturas))], temperaturas, marker='o', linestyle='-', color='r')\n",
    "plt.ylabel('Temperatura (°C)')\n",
    "plt.xticks(x_barra)\n",
    "plt.grid(True)\n",
    "plt.show()"
   ]
  },
  {
   "cell_type": "markdown",
   "metadata": {},
   "source": [
    "### Converte mas matrizes para latex"
   ]
  },
  {
   "cell_type": "code",
   "execution_count": 162,
   "metadata": {},
   "outputs": [],
   "source": [
    "def matriz_para_latex(matriz):\n",
    "    matriz_arredondada = np.round(matriz, 2)\n",
    "    latex_str = \"\\\\begin{bmatrix}\\n\"\n",
    "    linhas, colunas = matriz_arredondada.shape\n",
    "    \n",
    "    for i in range(linhas):\n",
    "        linha = \" & \".join(f\"{valor:.2f}\" for valor in matriz_arredondada[i])\n",
    "        latex_str += linha + \" \\\\\\\\\\n\"\n",
    "        \n",
    "    latex_str += \"\\\\end{bmatrix}\"\n",
    "    return latex_str\n",
    "\n",
    "def array_para_vetor_coluna_latex(array):\n",
    "    array_arredondado = np.round(array, 2)\n",
    "    latex_str = \"\\\\begin{bmatrix}\\n\"\n",
    "    for valor in array_arredondado:\n",
    "        latex_str += f\"{valor:.2f} \\\\\\\\\\n\"\n",
    "    latex_str += \"\\\\end{bmatrix}\"\n",
    "    \n",
    "    return latex_str\n",
    "\n",
    "def array_para_tabela_latex(array):\n",
    "    latex_str = \"\\\\begin{table}[h]\\n\"\n",
    "    latex_str += \"    \\\\centering\\n\"\n",
    "    latex_str += \"    \\\\caption{T (°C)}\\n\"\n",
    "    latex_str += \"    \\\\begin{tabular}{|c|c|}\\n\" \n",
    "    latex_str += \"        \\\\hline\\n\"\n",
    "\n",
    "    for i, valor in enumerate(array, 1):\n",
    "        latex_str += f\"        T($x_{i}$) & {valor:.2f} \\\\\\\\ \\\\hline\\n\"\n",
    "    \n",
    "    latex_str += \"    \\\\end{tabular}\\n\"\n",
    "    latex_str += \"\\\\end{table}\"\n",
    "    \n",
    "    return latex_str"
   ]
  },
  {
   "cell_type": "code",
   "execution_count": 163,
   "metadata": {},
   "outputs": [
    {
     "name": "stdout",
     "output_type": "stream",
     "text": [
      "\\begin{bmatrix}\n",
      "-2000.00 & 1000.00 & 0.00 & 0.00 & 0.00 & 0.00 & 0.00 & 0.00 & 0.00 & 0.00 & 0.00 & 0.00 & 0.00 & 0.00 & 0.00 & 0.00 & 0.00 & 0.00 & 0.00 \\\\\n",
      "1000.00 & -2000.00 & 1000.00 & 0.00 & 0.00 & 0.00 & 0.00 & 0.00 & 0.00 & 0.00 & 0.00 & 0.00 & 0.00 & 0.00 & 0.00 & 0.00 & 0.00 & 0.00 & 0.00 \\\\\n",
      "0.00 & 1000.00 & -2000.00 & 1000.00 & 0.00 & 0.00 & 0.00 & 0.00 & 0.00 & 0.00 & 0.00 & 0.00 & 0.00 & 0.00 & 0.00 & 0.00 & 0.00 & 0.00 & 0.00 \\\\\n",
      "0.00 & 0.00 & 1000.00 & -2000.00 & 1000.00 & 0.00 & 0.00 & 0.00 & 0.00 & 0.00 & 0.00 & 0.00 & 0.00 & 0.00 & 0.00 & 0.00 & 0.00 & 0.00 & 0.00 \\\\\n",
      "0.00 & 0.00 & 0.00 & 1000.00 & -2000.00 & 1000.00 & 0.00 & 0.00 & 0.00 & 0.00 & 0.00 & 0.00 & 0.00 & 0.00 & 0.00 & 0.00 & 0.00 & 0.00 & 0.00 \\\\\n",
      "0.00 & 0.00 & 0.00 & 0.00 & 1000.00 & -2000.00 & 1000.00 & 0.00 & 0.00 & 0.00 & 0.00 & 0.00 & 0.00 & 0.00 & 0.00 & 0.00 & 0.00 & 0.00 & 0.00 \\\\\n",
      "0.00 & 0.00 & 0.00 & 0.00 & 0.00 & 1000.00 & -2000.00 & 1000.00 & 0.00 & 0.00 & 0.00 & 0.00 & 0.00 & 0.00 & 0.00 & 0.00 & 0.00 & 0.00 & 0.00 \\\\\n",
      "0.00 & 0.00 & 0.00 & 0.00 & 0.00 & 0.00 & 1000.00 & -2000.00 & 1000.00 & 0.00 & 0.00 & 0.00 & 0.00 & 0.00 & 0.00 & 0.00 & 0.00 & 0.00 & 0.00 \\\\\n",
      "0.00 & 0.00 & 0.00 & 0.00 & 0.00 & 0.00 & 0.00 & 1000.00 & -2000.00 & 1000.00 & 0.00 & 0.00 & 0.00 & 0.00 & 0.00 & 0.00 & 0.00 & 0.00 & 0.00 \\\\\n",
      "0.00 & 0.00 & 0.00 & 0.00 & 0.00 & 0.00 & 0.00 & 0.00 & 1000.00 & -2000.00 & 1000.00 & 0.00 & 0.00 & 0.00 & 0.00 & 0.00 & 0.00 & 0.00 & 0.00 \\\\\n",
      "0.00 & 0.00 & 0.00 & 0.00 & 0.00 & 0.00 & 0.00 & 0.00 & 0.00 & 1000.00 & -2000.00 & 1000.00 & 0.00 & 0.00 & 0.00 & 0.00 & 0.00 & 0.00 & 0.00 \\\\\n",
      "0.00 & 0.00 & 0.00 & 0.00 & 0.00 & 0.00 & 0.00 & 0.00 & 0.00 & 0.00 & 1000.00 & -2000.00 & 1000.00 & 0.00 & 0.00 & 0.00 & 0.00 & 0.00 & 0.00 \\\\\n",
      "0.00 & 0.00 & 0.00 & 0.00 & 0.00 & 0.00 & 0.00 & 0.00 & 0.00 & 0.00 & 0.00 & 1000.00 & -2000.00 & 1000.00 & 0.00 & 0.00 & 0.00 & 0.00 & 0.00 \\\\\n",
      "0.00 & 0.00 & 0.00 & 0.00 & 0.00 & 0.00 & 0.00 & 0.00 & 0.00 & 0.00 & 0.00 & 0.00 & 1000.00 & -2000.00 & 1000.00 & 0.00 & 0.00 & 0.00 & 0.00 \\\\\n",
      "0.00 & 0.00 & 0.00 & 0.00 & 0.00 & 0.00 & 0.00 & 0.00 & 0.00 & 0.00 & 0.00 & 0.00 & 0.00 & 1000.00 & -2000.00 & 1000.00 & 0.00 & 0.00 & 0.00 \\\\\n",
      "0.00 & 0.00 & 0.00 & 0.00 & 0.00 & 0.00 & 0.00 & 0.00 & 0.00 & 0.00 & 0.00 & 0.00 & 0.00 & 0.00 & 1000.00 & -2000.00 & 1000.00 & 0.00 & 0.00 \\\\\n",
      "0.00 & 0.00 & 0.00 & 0.00 & 0.00 & 0.00 & 0.00 & 0.00 & 0.00 & 0.00 & 0.00 & 0.00 & 0.00 & 0.00 & 0.00 & 1000.00 & -2000.00 & 1000.00 & 0.00 \\\\\n",
      "0.00 & 0.00 & 0.00 & 0.00 & 0.00 & 0.00 & 0.00 & 0.00 & 0.00 & 0.00 & 0.00 & 0.00 & 0.00 & 0.00 & 0.00 & 0.00 & 1000.00 & -2000.00 & 1000.00 \\\\\n",
      "0.00 & 0.00 & 0.00 & 0.00 & 0.00 & 0.00 & 0.00 & 0.00 & 0.00 & 0.00 & 0.00 & 0.00 & 0.00 & 0.00 & 0.00 & 0.00 & 0.00 & 1000.00 & -2000.00 \\\\\n",
      "\\end{bmatrix}\n"
     ]
    }
   ],
   "source": [
    "latex_matriz = matriz_para_latex(A)\n",
    "print(latex_matriz)"
   ]
  },
  {
   "cell_type": "code",
   "execution_count": 164,
   "metadata": {},
   "outputs": [
    {
     "name": "stdout",
     "output_type": "stream",
     "text": [
      "\\begin{bmatrix}\n",
      "-59998.95 \\\\\n",
      "1.10 \\\\\n",
      "1.15 \\\\\n",
      "1.20 \\\\\n",
      "1.25 \\\\\n",
      "1.30 \\\\\n",
      "1.34 \\\\\n",
      "1.39 \\\\\n",
      "1.43 \\\\\n",
      "1.48 \\\\\n",
      "1.52 \\\\\n",
      "1.56 \\\\\n",
      "1.61 \\\\\n",
      "1.64 \\\\\n",
      "1.68 \\\\\n",
      "1.72 \\\\\n",
      "1.75 \\\\\n",
      "1.78 \\\\\n",
      "-39998.19 \\\\\n",
      "\\end{bmatrix}\n"
     ]
    }
   ],
   "source": [
    "latex_matriz = array_para_vetor_coluna_latex(b)\n",
    "print(latex_matriz)"
   ]
  },
  {
   "cell_type": "code",
   "execution_count": 165,
   "metadata": {},
   "outputs": [
    {
     "name": "stdout",
     "output_type": "stream",
     "text": [
      "\\begin{table}[h]\n",
      "    \\centering\n",
      "    \\caption{T (°C)}\n",
      "    \\begin{tabular}{|c|c|}\n",
      "        \\hline\n",
      "        T($x_1$) & 60.00 \\\\ \\hline\n",
      "        T($x_2$) & 58.99 \\\\ \\hline\n",
      "        T($x_3$) & 57.98 \\\\ \\hline\n",
      "        T($x_4$) & 56.97 \\\\ \\hline\n",
      "        T($x_5$) & 55.96 \\\\ \\hline\n",
      "        T($x_6$) & 54.95 \\\\ \\hline\n",
      "        T($x_7$) & 53.94 \\\\ \\hline\n",
      "        T($x_8$) & 52.94 \\\\ \\hline\n",
      "        T($x_9$) & 51.93 \\\\ \\hline\n",
      "        T($x_10$) & 50.93 \\\\ \\hline\n",
      "        T($x_11$) & 49.93 \\\\ \\hline\n",
      "        T($x_12$) & 48.93 \\\\ \\hline\n",
      "        T($x_13$) & 47.93 \\\\ \\hline\n",
      "        T($x_14$) & 46.93 \\\\ \\hline\n",
      "        T($x_15$) & 45.94 \\\\ \\hline\n",
      "        T($x_16$) & 44.94 \\\\ \\hline\n",
      "        T($x_17$) & 43.95 \\\\ \\hline\n",
      "        T($x_18$) & 42.96 \\\\ \\hline\n",
      "        T($x_19$) & 41.97 \\\\ \\hline\n",
      "        T($x_20$) & 40.98 \\\\ \\hline\n",
      "        T($x_21$) & 40.00 \\\\ \\hline\n",
      "    \\end{tabular}\n",
      "\\end{table}\n"
     ]
    }
   ],
   "source": [
    "latex_matriz = array_para_tabela_latex(temperaturas)\n",
    "print(latex_matriz)"
   ]
  }
 ],
 "metadata": {
  "kernelspec": {
   "display_name": "calc_n",
   "language": "python",
   "name": "python3"
  },
  "language_info": {
   "codemirror_mode": {
    "name": "ipython",
    "version": 3
   },
   "file_extension": ".py",
   "mimetype": "text/x-python",
   "name": "python",
   "nbconvert_exporter": "python",
   "pygments_lexer": "ipython3",
   "version": "3.12.2"
  }
 },
 "nbformat": 4,
 "nbformat_minor": 2
}
